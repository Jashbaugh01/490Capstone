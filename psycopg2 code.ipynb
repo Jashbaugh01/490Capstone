{
 "cells": [
  {
   "cell_type": "code",
   "execution_count": 1,
   "id": "3a3f02cd-beea-4592-b8cf-6f5971dd5d1c",
   "metadata": {},
   "outputs": [],
   "source": [
    "import psycopg2"
   ]
  },
  {
   "cell_type": "code",
   "execution_count": 12,
   "id": "ee1cc9e7-4e63-401c-b403-ee0c6c6bca3b",
   "metadata": {},
   "outputs": [],
   "source": [
    "try:\n",
    "    conn = psycopg2.connect(\n",
    "        user=\"inst_490\",\n",
    "        password=\"opensource-qgis\",\n",
    "        host=\"localhost\",\n",
    "        port=\"5432\",\n",
    "        database=\"qgis_test\"\n",
    "    )\n",
    "\n",
    "    cursor = conn.cursor()\n",
    "\n",
    "except (Exception, psycopg2.Error) as error:\n",
    "    print(\"Error while connecting to PostgreSQL:\", error)\n"
   ]
  },
  {
   "cell_type": "code",
   "execution_count": 10,
   "id": "38e55f0c-1c2f-49eb-9ee0-21137e0ed2fa",
   "metadata": {},
   "outputs": [],
   "source": [
    "# Sample data to be inserted\n",
    "data_to_insert = (\"test\", \"POLYGON((1 0, 1 1, 2 1, 2 0, 1 0))\",)\n",
    "    \n",
    "# SQL query to insert data into the table\n",
    "insert_query = '''INSERT INTO polygon_geom_data (name, geom) VALUES (%s, %s) RETURNING id;'''"
   ]
  },
  {
   "cell_type": "code",
   "execution_count": 13,
   "id": "9a57458c-0470-4b1b-ae1e-e13ae94e34e9",
   "metadata": {},
   "outputs": [
    {
     "name": "stdout",
     "output_type": "stream",
     "text": [
      "Data inserted successfully!\n"
     ]
    }
   ],
   "source": [
    "try:\n",
    "    # Execute the query\n",
    "    cursor.execute(insert_query, data_to_insert)\n",
    "    conn.commit()\n",
    "\n",
    "    print(\"Data inserted successfully!\")\n",
    "\n",
    "except (Exception, psycopg2.Error) as error:\n",
    "    print(\"Error while inserting data:\", error)\n",
    "\n",
    "finally:\n",
    "    # Close the cursor and connection\n",
    "    if cursor:\n",
    "        cursor.close()\n",
    "    if conn:\n",
    "        conn.close()\n"
   ]
  },
  {
   "cell_type": "code",
   "execution_count": null,
   "id": "3997ec32-7033-407f-ac9d-ba15e4465af4",
   "metadata": {},
   "outputs": [],
   "source": []
  }
 ],
 "metadata": {
  "kernelspec": {
   "display_name": "Python 3 (ipykernel)",
   "language": "python",
   "name": "python3"
  },
  "language_info": {
   "codemirror_mode": {
    "name": "ipython",
    "version": 3
   },
   "file_extension": ".py",
   "mimetype": "text/x-python",
   "name": "python",
   "nbconvert_exporter": "python",
   "pygments_lexer": "ipython3",
   "version": "3.10.6"
  }
 },
 "nbformat": 4,
 "nbformat_minor": 5
}
